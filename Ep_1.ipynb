{
 "cells": [
  {
   "cell_type": "markdown",
   "id": "numerous-yemen",
   "metadata": {},
   "source": [
    "train - 1937개\n",
    "test - 581개\n"
   ]
  },
  {
   "cell_type": "code",
   "execution_count": 127,
   "id": "driving-support",
   "metadata": {},
   "outputs": [
    {
     "name": "stdout",
     "output_type": "stream",
     "text": [
      "PIL 라이브러리 import 완료!\n"
     ]
    }
   ],
   "source": [
    "#가위바위보 만들기\n",
    "from PIL import Image\n",
    "import os, glob\n",
    "\n",
    "print(\"PIL 라이브러리 import 완료!\")"
   ]
  },
  {
   "cell_type": "code",
   "execution_count": 128,
   "id": "republican-manor",
   "metadata": {},
   "outputs": [
    {
     "name": "stdout",
     "output_type": "stream",
     "text": [
      "697  images to be resized\n",
      "697 images resized.\n",
      "가위 이미지resize 완료!\n"
     ]
    }
   ],
   "source": [
    "def resize_images(img_path):\n",
    "    images=glob.glob(img_path + \"/*.jpg\")\n",
    "    \n",
    "    print(len(images), \" images to be resized\")\n",
    "    \n",
    "    #파일마다 모두 28x28 사이즈로 바꿔야 한다.\n",
    "    target_size=(28,28)\n",
    "    for img in images:\n",
    "        old_img = Image.open(img)\n",
    "        new_img = old_img.resize(target_size, Image.ANTIALIAS)\n",
    "        new_img.save(img, \"JPEG\")\n",
    "    \n",
    "    print(len(images), \"images resized.\")\n",
    "    \n",
    "# 가위 이미지가 저장된 디렉토리 아래의 모든 jpg을 읽어들여서\n",
    "image_dir_path = os.getenv(\"HOME\")+ \"/aiffel/rock_scissor_paper/scissor\"\n",
    "resize_images(image_dir_path)\n",
    "\n",
    "print(\"가위 이미지resize 완료!\")\n"
   ]
  },
  {
   "cell_type": "code",
   "execution_count": 129,
   "id": "consecutive-keyboard",
   "metadata": {},
   "outputs": [
    {
     "name": "stdout",
     "output_type": "stream",
     "text": [
      "601  images to be resized\n",
      "601 images resized.\n",
      "바위 이미지 resize완료!\n"
     ]
    }
   ],
   "source": [
    "# 바위 이미지가 저장된 디렉토리 아래의 모든 jpg 파일을 읽어들여서\n",
    "image_dir_path2 = os.getenv(\"HOME\") + \"/aiffel/rock_scissor_paper/rock\"\n",
    "# 파일마다 모두 28x28 사이즈로 바꾸어 저장합니다.\n",
    "resize_images(image_dir_path2)\n",
    "print(\"바위 이미지 resize완료!\")"
   ]
  },
  {
   "cell_type": "code",
   "execution_count": 130,
   "id": "steady-senior",
   "metadata": {},
   "outputs": [
    {
     "name": "stdout",
     "output_type": "stream",
     "text": [
      "639  images to be resized\n",
      "639 images resized.\n",
      "보 이미지 resize완료!\n"
     ]
    }
   ],
   "source": [
    "# 보 이미지가 저장된 디렉토리 아래의 모든 jpg 파일을 읽어들여서\n",
    "image_dir_path3 = os.getenv(\"HOME\") + \"/aiffel/rock_scissor_paper/paper\"\n",
    "# 파일마다 모두 28x28 사이즈로 바꾸어 저장합니다.\n",
    "resize_images(image_dir_path3)\n",
    "print(\"보 이미지 resize완료!\")"
   ]
  },
  {
   "cell_type": "code",
   "execution_count": 131,
   "id": "legislative-pittsburgh",
   "metadata": {},
   "outputs": [
    {
     "name": "stdout",
     "output_type": "stream",
     "text": [
      "학습데이터(x_train)의 이미지 개수는 1937 입니다.\n",
      "x_train shape: (1937, 28, 28, 3)\n",
      "y_train shape: (1937,)\n"
     ]
    }
   ],
   "source": [
    "import numpy as np\n",
    "\n",
    "def load_data(img_path, number_of_data=1937): #가위바위보 이미지 개수 총합\n",
    "    # 가위 : 0, 바위: 1, 보: 2\n",
    "    img_size = 28\n",
    "    color=3\n",
    "    #이미지 데이터와 라벨(가위 :0, 바위: 1, 보: 2) 데이터를 담을 행렬(matrix)\n",
    "    imgs=np.zeros(number_of_data*img_size*img_size*color,dtype=np.int32).reshape(number_of_data,img_size,img_size,color)\n",
    "    labels=np.zeros(number_of_data,dtype=np.int32)\n",
    "    \n",
    "    idx =0\n",
    "    for file in glob.iglob(img_path+'/scissor/*.jpg'):\n",
    "        img = np.array(Image.open(file),dtype=np.int32)\n",
    "        imgs[idx,:,:,:]= img #데이터 영역에 이미지 행렬을 복사\n",
    "        labels[idx]=0 # 가위:0\n",
    "        idx = idx+1\n",
    "    \n",
    "    for file in glob.iglob(img_path+'/rock/*.jpg'):\n",
    "        img = np.array(Image.open(file),dtype=np.int32)\n",
    "        imgs[idx,:,:,:]= img #데이터 영역에 이미지 행렬을 복사\n",
    "        labels[idx]=1 # 바위:1\n",
    "        idx = idx+1\n",
    "        \n",
    "    for file in glob.iglob(img_path+'/paper/*.jpg'):\n",
    "        img = np.array(Image.open(file),dtype=np.int32)\n",
    "        imgs[idx,:,:,:]= img #데이터 영역에 이미지 행렬을 복사\n",
    "        labels[idx]=2 # 보:2\n",
    "        idx = idx+1    \n",
    "        \n",
    "    print(\"학습데이터(x_train)의 이미지 개수는\", idx,\"입니다.\")\n",
    "    return imgs, labels\n",
    "\n",
    "image_dir_path = os.getenv(\"HOME\") + \"/aiffel/rock_scissor_paper\"\n",
    "(x_train, y_train)=load_data(image_dir_path,1937)\n",
    "x_train_norm = x_train/255.0  # 입력은 0~1 사이의 값으로 정규화\n",
    "\n",
    "print(\"x_train shape: {}\".format(x_train.shape))\n",
    "print(\"y_train shape: {}\".format(y_train.shape))"
   ]
  },
  {
   "cell_type": "code",
   "execution_count": 132,
   "id": "sharp-nightlife",
   "metadata": {},
   "outputs": [
    {
     "name": "stdout",
     "output_type": "stream",
     "text": [
      "라벨:  0\n"
     ]
    },
    {
     "data": {
      "image/png": "[encoded data removed]",
      "text/plain": [
       "<Figure size 432x288 with 1 Axes>"
      ]
     },
     "metadata": {
      "needs_background": "light"
     },
     "output_type": "display_data"
    }
   ],
   "source": [
    "import matplotlib.pyplot as plt\n",
    "plt.imshow(x_train[0])\n",
    "print('라벨: ', y_train[0])"
   ]
  },
  {
   "cell_type": "code",
   "execution_count": 133,
   "id": "african-evening",
   "metadata": {},
   "outputs": [
    {
     "name": "stdout",
     "output_type": "stream",
     "text": [
      "Model에 추가된 Layer 개수:  9\n",
      "Model: \"sequential_21\"\n",
      "_________________________________________________________________\n",
      "Layer (type)                 Output Shape              Param #   \n",
      "=================================================================\n",
      "conv2d_63 (Conv2D)           (None, 26, 26, 80)        2240      \n",
      "_________________________________________________________________\n",
      "max_pooling2d_63 (MaxPooling (None, 13, 13, 80)        0         \n",
      "_________________________________________________________________\n",
      "conv2d_64 (Conv2D)           (None, 11, 11, 32)        23072     \n",
      "_________________________________________________________________\n",
      "max_pooling2d_64 (MaxPooling (None, 5, 5, 32)          0         \n",
      "_________________________________________________________________\n",
      "conv2d_65 (Conv2D)           (None, 3, 3, 50)          14450     \n",
      "_________________________________________________________________\n",
      "max_pooling2d_65 (MaxPooling (None, 1, 1, 50)          0         \n",
      "_________________________________________________________________\n",
      "flatten_21 (Flatten)         (None, 50)                0         \n",
      "_________________________________________________________________\n",
      "dense_42 (Dense)             (None, 16)                816       \n",
      "_________________________________________________________________\n",
      "dense_43 (Dense)             (None, 10)                170       \n",
      "=================================================================\n",
      "Total params: 40,748\n",
      "Trainable params: 40,748\n",
      "Non-trainable params: 0\n",
      "_________________________________________________________________\n"
     ]
    }
   ],
   "source": [
    "import tensorflow as tf\n",
    "from tensorflow import keras\n",
    "import numpy as np\n",
    "\n",
    "n_channel_1=80\n",
    "n_channel_2=32\n",
    "n_channel_3=50\n",
    "n_dense=16\n",
    "n_train_epoch=30\n",
    "\n",
    "model=keras.models.Sequential()\n",
    "model.add(keras.layers.Conv2D(n_channel_1, (3,3), activation='relu', input_shape=(28,28,3)))\n",
    "model.add(keras.layers.MaxPool2D(2,2))\n",
    "model.add(keras.layers.Conv2D(n_channel_2, (3,3), activation='relu'))\n",
    "model.add(keras.layers.MaxPool2D(2,2))\n",
    "model.add(keras.layers.Conv2D(n_channel_3, (3,3), activation='relu')) #층add\n",
    "model.add(keras.layers.MaxPooling2D((2,2)))\n",
    "model.add(keras.layers.Flatten())\n",
    "model.add(keras.layers.Dense(n_dense, activation='relu'))\n",
    "model.add(keras.layers.Dense(10, activation='softmax'))\n",
    "\n",
    "print('Model에 추가된 Layer 개수: ', len(model.layers))\n",
    "\n",
    "model.summary()"
   ]
  },
  {
   "cell_type": "code",
   "execution_count": null,
   "id": "twelve-prison",
   "metadata": {},
   "outputs": [],
   "source": []
  },
  {
   "cell_type": "code",
   "execution_count": 134,
   "id": "furnished-treatment",
   "metadata": {},
   "outputs": [
    {
     "name": "stdout",
     "output_type": "stream",
     "text": [
      "Epoch 1/30\n",
      "61/61 [==============================] - 1s 5ms/step - loss: 1.4373 - accuracy: 0.3647\n",
      "Epoch 2/30\n",
      "61/61 [==============================] - 0s 4ms/step - loss: 1.0097 - accuracy: 0.5139\n",
      "Epoch 3/30\n",
      "61/61 [==============================] - 0s 4ms/step - loss: 0.8217 - accuracy: 0.6298\n",
      "Epoch 4/30\n",
      "61/61 [==============================] - 0s 4ms/step - loss: 0.6290 - accuracy: 0.7523\n",
      "Epoch 5/30\n",
      "61/61 [==============================] - 0s 4ms/step - loss: 0.5259 - accuracy: 0.7848\n",
      "Epoch 6/30\n",
      "61/61 [==============================] - 0s 4ms/step - loss: 0.4534 - accuracy: 0.8272\n",
      "Epoch 7/30\n",
      "61/61 [==============================] - 0s 4ms/step - loss: 0.3646 - accuracy: 0.8626\n",
      "Epoch 8/30\n",
      "61/61 [==============================] - 0s 4ms/step - loss: 0.2997 - accuracy: 0.8894\n",
      "Epoch 9/30\n",
      "61/61 [==============================] - 0s 4ms/step - loss: 0.2845 - accuracy: 0.9192\n",
      "Epoch 10/30\n",
      "61/61 [==============================] - 0s 4ms/step - loss: 0.2127 - accuracy: 0.9363\n",
      "Epoch 11/30\n",
      "61/61 [==============================] - 0s 4ms/step - loss: 0.2020 - accuracy: 0.9304\n",
      "Epoch 12/30\n",
      "61/61 [==============================] - 0s 4ms/step - loss: 0.1939 - accuracy: 0.9432\n",
      "Epoch 13/30\n",
      "61/61 [==============================] - 0s 4ms/step - loss: 0.1474 - accuracy: 0.9607\n",
      "Epoch 14/30\n",
      "61/61 [==============================] - 0s 4ms/step - loss: 0.1241 - accuracy: 0.9656\n",
      "Epoch 15/30\n",
      "61/61 [==============================] - 0s 4ms/step - loss: 0.1763 - accuracy: 0.9469\n",
      "Epoch 16/30\n",
      "61/61 [==============================] - 0s 4ms/step - loss: 0.0948 - accuracy: 0.9738\n",
      "Epoch 17/30\n",
      "61/61 [==============================] - 0s 4ms/step - loss: 0.0847 - accuracy: 0.9787\n",
      "Epoch 18/30\n",
      "61/61 [==============================] - 0s 4ms/step - loss: 0.0797 - accuracy: 0.9824\n",
      "Epoch 19/30\n",
      "61/61 [==============================] - 0s 4ms/step - loss: 0.0742 - accuracy: 0.9843\n",
      "Epoch 20/30\n",
      "61/61 [==============================] - 0s 4ms/step - loss: 0.0639 - accuracy: 0.9816\n",
      "Epoch 21/30\n",
      "61/61 [==============================] - 0s 4ms/step - loss: 0.0983 - accuracy: 0.9695\n",
      "Epoch 22/30\n",
      "61/61 [==============================] - 0s 4ms/step - loss: 0.0612 - accuracy: 0.9782\n",
      "Epoch 23/30\n",
      "61/61 [==============================] - 0s 4ms/step - loss: 0.0601 - accuracy: 0.9856\n",
      "Epoch 24/30\n",
      "61/61 [==============================] - 0s 4ms/step - loss: 0.0560 - accuracy: 0.9815\n",
      "Epoch 25/30\n",
      "61/61 [==============================] - 0s 4ms/step - loss: 0.0489 - accuracy: 0.9870\n",
      "Epoch 26/30\n",
      "61/61 [==============================] - 0s 4ms/step - loss: 0.0417 - accuracy: 0.9891\n",
      "Epoch 27/30\n",
      "61/61 [==============================] - 0s 4ms/step - loss: 0.0498 - accuracy: 0.9865\n",
      "Epoch 28/30\n",
      "61/61 [==============================] - 0s 4ms/step - loss: 0.0345 - accuracy: 0.9918\n",
      "Epoch 29/30\n",
      "61/61 [==============================] - 0s 4ms/step - loss: 0.0431 - accuracy: 0.9902\n",
      "Epoch 30/30\n",
      "61/61 [==============================] - 0s 4ms/step - loss: 0.0318 - accuracy: 0.9928\n"
     ]
    },
    {
     "data": {
      "text/plain": [
       "<tensorflow.python.keras.callbacks.History at 0x7fb3d41c6bd0>"
      ]
     },
     "execution_count": 134,
     "metadata": {},
     "output_type": "execute_result"
    }
   ],
   "source": [
    "model.compile(optimizer='adam',\n",
    "             loss='sparse_categorical_crossentropy',\n",
    "             metrics=['accuracy'])\n",
    "\n",
    "model.fit(x_train_norm, y_train, epochs=n_train_epoch)"
   ]
  },
  {
   "cell_type": "code",
   "execution_count": 135,
   "id": "german-procurement",
   "metadata": {},
   "outputs": [
    {
     "name": "stdout",
     "output_type": "stream",
     "text": [
      "194 images to be resized.\n",
      "194 images resized.\n",
      "테스트 가위이미지 resize 완료!!\n",
      "194 images to be resized.\n",
      "194 images resized.\n",
      "테스트 바위이미지 resize 완료!!\n",
      "193 images to be resized.\n",
      "193 images resized.\n",
      "테스트 보 이미지 resize 완료!!\n",
      "테스트데이터(x_test)의 이미지 개수는 581 입니다.\n",
      "x_test shape: (583, 28, 28, 3)\n",
      "y_test shape: (583,)\n",
      "라벨:  0\n"
     ]
    },
    {
     "data": {
      "image/png": "[encoded data removed]",
      "text/plain": [
       "<Figure size 432x288 with 1 Axes>"
      ]
     },
     "metadata": {
      "needs_background": "light"
     },
     "output_type": "display_data"
    }
   ],
   "source": [
    "def resize_images(img_path):\n",
    "    images=glob.glob(img_path + \"/*.jpg\")\n",
    "    \n",
    "    print(len(images), \"images to be resized.\")\n",
    "    \n",
    "    target_size=(28,28)\n",
    "    for img in images:\n",
    "        old_img = Image.open(img)\n",
    "        new_img=old_img.resize(target_size,Image.ANTIALIAS)\n",
    "        new_img.save(img,\"JPEG\")\n",
    "        \n",
    "    print(len(images), \"images resized.\")\n",
    "      \n",
    "\n",
    "image_dir_path1 = os.getenv(\"HOME\") + \"/aiffel/rock_scissor_paper/test/scissor\"\n",
    "resize_images(image_dir_path1)\n",
    "print(\"테스트 가위이미지 resize 완료!!\")\n",
    "\n",
    "image_dir_path2 = os.getenv(\"HOME\") + \"/aiffel/rock_scissor_paper/test/rock\"\n",
    "resize_images(image_dir_path2)\n",
    "print(\"테스트 바위이미지 resize 완료!!\")\n",
    "    \n",
    "image_dir_path3 = os.getenv(\"HOME\") + \"/aiffel/rock_scissor_paper/test/paper\"\n",
    "resize_images(image_dir_path3)\n",
    "print(\"테스트 보 이미지 resize 완료!!\")\n",
    "\n",
    "def load_data(img_path, number_of_data=583):  # 가위바위보 이미지 개수 총합에 주의하세요.\n",
    "\n",
    "    img_size=28\n",
    "    color=3\n",
    "    #이미지 데이터와 라벨(가위 : 0, 바위 : 1, 보 : 2) 데이터를 담을 행렬(matrix) 영역을 생성합니다.\n",
    "    imgs=np.zeros(number_of_data*img_size*img_size*color,dtype=np.int32).reshape(number_of_data,img_size,img_size,color)\n",
    "    labels=np.zeros(number_of_data,dtype=np.int32)\n",
    "\n",
    "    idx = 0\n",
    "    \n",
    "    for file in glob.iglob(img_path+'/scissor/*.jpg'):\n",
    "        img = np.array(Image.open(file),dtype=np.int32)\n",
    "        imgs[idx,:,:,:]=img    # 데이터 영역에 이미지 행렬을 복사\n",
    "        labels[idx]=0   # 가위 : 0\n",
    "        idx=idx+1\n",
    "\n",
    "    for file in glob.iglob(img_path+'/rock/*.jpg'):\n",
    "        img = np.array(Image.open(file),dtype=np.int32)\n",
    "        imgs[idx,:,:,:]=img    # 데이터 영역에 이미지 행렬을 복사\n",
    "        labels[idx]=1   # 바위 : 1\n",
    "        idx=idx+1  \n",
    "    \n",
    "    for file in glob.iglob(img_path+'/paper/*.jpg'):\n",
    "        img = np.array(Image.open(file),dtype=np.int32)\n",
    "        imgs[idx,:,:,:]=img    # 데이터 영역에 이미지 행렬을 복사\n",
    "        labels[idx]=2   # 보 : 2\n",
    "        idx=idx+1\n",
    "        \n",
    "    print(\"테스트데이터(x_test)의 이미지 개수는\", idx,\"입니다.\")\n",
    "    return imgs, labels\n",
    "\n",
    "image_dir_path = os.getenv(\"HOME\") + \"/aiffel/rock_scissor_paper/test\"\n",
    "(x_test, y_test)=load_data(image_dir_path,583)\n",
    "x_test_norm = x_test/255.0   # 입력은 0~1 사이의 값으로 정규화\n",
    "\n",
    "print(\"x_test shape: {}\".format(x_test.shape))\n",
    "print(\"y_test shape: {}\".format(y_test.shape))\n",
    "\n",
    "\n",
    "plt.imshow(x_test[22])\n",
    "print('라벨: ', y_test[22])"
   ]
  },
  {
   "cell_type": "code",
   "execution_count": 136,
   "id": "standard-field",
   "metadata": {},
   "outputs": [
    {
     "name": "stdout",
     "output_type": "stream",
     "text": [
      "19/19 - 0s - loss: 1.4440 - accuracy: 0.6844\n",
      "test_loss: 1.4440062046051025 \n",
      "test_accuracy: 0.6843910813331604\n"
     ]
    }
   ],
   "source": [
    "test_loss, test_accuracy = model.evaluate(x_test_norm,y_test, verbose=2)\n",
    "print(\"test_loss: {} \".format(test_loss))\n",
    "print(\"test_accuracy: {}\".format(test_accuracy))"
   ]
  },
  {
   "cell_type": "code",
   "execution_count": null,
   "id": "hearing-austin",
   "metadata": {},
   "outputs": [],
   "source": []
  },
  {
   "cell_type": "code",
   "execution_count": null,
   "id": "acknowledged-neighborhood",
   "metadata": {},
   "outputs": [],
   "source": []
  }
 ],
 "metadata": {
  "kernelspec": {
   "display_name": "Python 3",
   "language": "python",
   "name": "python3"
  },
  "language_info": {
   "codemirror_mode": {
    "name": "ipython",
    "version": 3
   },
   "file_extension": ".py",
   "mimetype": "text/x-python",
   "name": "python",
   "nbconvert_exporter": "python",
   "pygments_lexer": "ipython3",
   "version": "3.7.9"
  }
 },
 "nbformat": 4,
 "nbformat_minor": 5
}
